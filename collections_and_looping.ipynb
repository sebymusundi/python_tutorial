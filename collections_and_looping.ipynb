{
 "cells": [
  {
   "cell_type": "code",
   "execution_count": 1,
   "id": "96442371",
   "metadata": {},
   "outputs": [
    {
     "name": "stdout",
     "output_type": "stream",
     "text": [
      "[1, 2.4, 'Sebastian', 'Musundi']\n"
     ]
    }
   ],
   "source": [
    "# Creating a list. Lists are immutable \n",
    "a_list=[1, 2.4,  \"Sebastian\", \"Musundi\"]\n",
    "\n",
    "print(a_list)"
   ]
  },
  {
   "cell_type": "code",
   "execution_count": 2,
   "id": "153c777d",
   "metadata": {},
   "outputs": [
    {
     "data": {
      "text/plain": [
       "1"
      ]
     },
     "execution_count": 2,
     "metadata": {},
     "output_type": "execute_result"
    }
   ],
   "source": [
    "# select elements within a list \n",
    "a_list[0]"
   ]
  },
  {
   "cell_type": "code",
   "execution_count": 4,
   "id": "1613ad59",
   "metadata": {},
   "outputs": [
    {
     "name": "stdout",
     "output_type": "stream",
     "text": [
      "4\n"
     ]
    }
   ],
   "source": [
    "# check the length of items in a list \n",
    "list_len=len(a_list)\n",
    "print(list_len)"
   ]
  },
  {
   "cell_type": "code",
   "execution_count": 5,
   "id": "9883ec01",
   "metadata": {},
   "outputs": [
    {
     "name": "stdout",
     "output_type": "stream",
     "text": [
      "Musundi\n"
     ]
    }
   ],
   "source": [
    "# Check the last element in the list\n",
    "last_el=a_list[list_len -1]\n",
    "print(last_el)"
   ]
  },
  {
   "cell_type": "code",
   "execution_count": 11,
   "id": "3bd4e01e",
   "metadata": {},
   "outputs": [
    {
     "name": "stdout",
     "output_type": "stream",
     "text": [
      "['A', 'T', 'C', 'G']\n",
      "['A', 'C', 'G', 'T']\n"
     ]
    }
   ],
   "source": [
    "# Creating a new list and appending variables inside the list\n",
    "# Create an empty list\n",
    "new_list=list()\n",
    "\n",
    "# Append variables in the new list\n",
    "new_list.append(\"A\")\n",
    "new_list.append(\"T\")\n",
    "new_list.append(\"C\")\n",
    "new_list.append(\"G\")\n",
    "\n",
    "# print the new_list\n",
    "print(new_list)\n",
    "\n",
    "# sort the list\n",
    "new_list.sort()\n",
    "\n",
    "# print sorted list\n",
    "print(new_list)"
   ]
  },
  {
   "cell_type": "code",
   "execution_count": 12,
   "id": "f47ce73a",
   "metadata": {},
   "outputs": [
    {
     "name": "stdout",
     "output_type": "stream",
     "text": [
      "['ATCG', 'GC', 'GCAT', 'GCTCCCGA']\n"
     ]
    }
   ],
   "source": [
    "# Convert a string to a list by spliting \n",
    "seq=\"ATCGTAGCTAGCATTAGCTCCCGA\"\n",
    "\n",
    "# Split where there is TA \n",
    "sub_list=seq.split(\"TA\")\n",
    "\n",
    "# print the list\n",
    "print(sub_list)"
   ]
  },
  {
   "cell_type": "code",
   "execution_count": 16,
   "id": "bdaf5e96",
   "metadata": {},
   "outputs": [
    {
     "name": "stdout",
     "output_type": "stream",
     "text": [
      "['ATCG', 'GC', '', '', 'GCAT', 'GCTCCCGA']\n"
     ]
    },
    {
     "data": {
      "text/plain": [
       "list"
      ]
     },
     "execution_count": 16,
     "metadata": {},
     "output_type": "execute_result"
    }
   ],
   "source": [
    "# Convert a string to list where there are two TATA\n",
    "seq_ex=\"ATCGTAGCTATATAGCATTAGCTCCCGA\"\n",
    "\n",
    "# Split where there is TA \n",
    "sub_list_2= seq_ex.split(\"TA\")\n",
    "\n",
    "# print sequence list\n",
    "print(sub_list_2)\n",
    "type(sub_list_2)"
   ]
  },
  {
   "cell_type": "code",
   "execution_count": 15,
   "id": "216c9fcb",
   "metadata": {},
   "outputs": [
    {
     "name": "stdout",
     "output_type": "stream",
     "text": [
      "('CYP6B', 'AGP4', 'CATB')\n"
     ]
    },
    {
     "data": {
      "text/plain": [
       "tuple"
      ]
     },
     "execution_count": 15,
     "metadata": {},
     "output_type": "execute_result"
    }
   ],
   "source": [
    "# Tuples are immutable lists \n",
    "# Create an empty tuple\n",
    "ids=tuple()\n",
    "id=(\"CYP6B\", \"AGP4\", \"CATB\")\n",
    "\n",
    "print(id)\n",
    "type(id)"
   ]
  },
  {
   "cell_type": "code",
   "execution_count": 18,
   "id": "78871454",
   "metadata": {},
   "outputs": [
    {
     "name": "stdout",
     "output_type": "stream",
     "text": [
      "['A', 'T', 'G', 'C', 'A', 'T', 'G', 'C', 'A', 'G', 'A', 'A', 'T', 'C', 'G', 'A']\n"
     ]
    }
   ],
   "source": [
    "#Given a DNA sequence as a string, how can you convert it into a list of nucleotides (A, C, G, T) for further analysis?\n",
    "# Provided DNA sequence \n",
    "DNA_seq=\"ATGCATGCAGAATCGA\"\n",
    "\n",
    "# Split nucleotides\n",
    "DNA_list=list(DNA_seq)\n",
    "\n",
    "# print the output \n",
    "print(DNA_list)\n",
    "\n"
   ]
  },
  {
   "cell_type": "code",
   "execution_count": 23,
   "id": "441a7f50",
   "metadata": {},
   "outputs": [
    {
     "name": "stdout",
     "output_type": "stream",
     "text": [
      "['C', 'V', 'Y', 'P', 'G', 'K', 'M', 'L', 'A', 'Q', 'F', 'S', 'H', 'I', 'N', 'T', 'W', 'R', 'E']\n"
     ]
    }
   ],
   "source": [
    "# How would you extract all unique amino acids present in a protein sequence stored as a string or list?\n",
    "\n",
    "# Provided protein sequence \n",
    "protein_sequence = \"MVKYKPTVHGQEFEVKYILVKGHGHEYLIVNTEKARESVCALWMLC\"\n",
    "\n",
    "# convert string to become list\n",
    "protein_list=list(protein_sequence)\n",
    "\n",
    "# extract set amino acid sequences using set\n",
    "protein_uniq= set(protein_list)\n",
    "\n",
    "# convert back to a list\n",
    "protein_uniq=list(protein_uniq)\n",
    "\n",
    "# print the unique amino acids\n",
    "print(protein_uniq)\n"
   ]
  },
  {
   "cell_type": "code",
   "execution_count": 25,
   "id": "53ef78f5",
   "metadata": {},
   "outputs": [
    {
     "name": "stdout",
     "output_type": "stream",
     "text": [
      "[2, 3, 4, 5, 7, 8, 9, 10]\n"
     ]
    },
    {
     "data": {
      "text/plain": [
       "[4, 5, 7, 8]"
      ]
     },
     "execution_count": 25,
     "metadata": {},
     "output_type": "execute_result"
    }
   ],
   "source": [
    "#  Given two lists, list1 and list2, how can you concatenate them to create a new list containing all the elements from both lists?\n",
    "list1=[2,3,4,5]\n",
    "list2=[7,8,9,10]\n",
    "\n",
    "# join two lists \n",
    "list3=list1 + list2\n",
    "\n",
    "# print joined list\n",
    "print(list3)\n",
    "\n",
    "# Given a list of numbers, how can you create a new list containing only the elements from index 2 to index 5 (inclusive)?\n",
    "list3[2:6]"
   ]
  },
  {
   "cell_type": "code",
   "execution_count": 29,
   "id": "b0ecaa83",
   "metadata": {},
   "outputs": [
    {
     "name": "stdout",
     "output_type": "stream",
     "text": [
      "['acgvft', 'agctv']\n"
     ]
    }
   ],
   "source": [
    "# Given a list of strings, how can you remove a specific string from the list if it exists?\n",
    "list_strings=[\"abcgd\", \"acgvft\", \"agctv\"]\n",
    "\n",
    "# use the remove string\n",
    "list_strings.remove(\"abcgd\")\n",
    "\n",
    "# print the list\n",
    "print(list_strings)\n",
    "\n",
    "# "
   ]
  },
  {
   "cell_type": "code",
   "execution_count": 30,
   "id": "4e3a6685",
   "metadata": {},
   "outputs": [
    {
     "name": "stdout",
     "output_type": "stream",
     "text": [
      "[1, 2, 3, 4, 4, 5, 8, 57]\n"
     ]
    }
   ],
   "source": [
    "# Given a list of integers, how can you sort the list in ascending order without modifying the original list?\n",
    "list_integers=[1,2,4,57,8,4,5,3]\n",
    "\n",
    "# sort the list in ascending order\n",
    "list_integers.sort()\n",
    "\n",
    "# print output\n",
    "print(list_integers)"
   ]
  },
  {
   "cell_type": "code",
   "execution_count": null,
   "id": "b3018b22",
   "metadata": {},
   "outputs": [],
   "source": []
  }
 ],
 "metadata": {
  "kernelspec": {
   "display_name": "Python 3 (ipykernel)",
   "language": "python",
   "name": "python3"
  },
  "language_info": {
   "codemirror_mode": {
    "name": "ipython",
    "version": 3
   },
   "file_extension": ".py",
   "mimetype": "text/x-python",
   "name": "python",
   "nbconvert_exporter": "python",
   "pygments_lexer": "ipython3",
   "version": "3.11.5"
  }
 },
 "nbformat": 4,
 "nbformat_minor": 5
}
