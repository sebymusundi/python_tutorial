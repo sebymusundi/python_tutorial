{
 "cells": [
  {
   "cell_type": "code",
   "execution_count": 30,
   "id": "d01c3d72-793e-48fe-a3bc-9ae4d3c26308",
   "metadata": {},
   "outputs": [
    {
     "name": "stdout",
     "output_type": "stream",
     "text": [
      "Hello world\n"
     ]
    }
   ],
   "source": [
    "# Print the welcome message hello world \n",
    "\n",
    "print(\"Hello world\")"
   ]
  },
  {
   "cell_type": "code",
   "execution_count": 31,
   "id": "334926bf-b406-4bc7-ac51-8b97c0619f6c",
   "metadata": {},
   "outputs": [
    {
     "name": "stdout",
     "output_type": "stream",
     "text": [
      "5000\n"
     ]
    }
   ],
   "source": [
    "# Assign variables \n",
    "\n",
    "a=5000\n",
    "print(a)"
   ]
  },
  {
   "cell_type": "code",
   "execution_count": 32,
   "id": "fa991015-14bf-40a5-84ba-0c8e5d15c76e",
   "metadata": {},
   "outputs": [
    {
     "name": "stdout",
     "output_type": "stream",
     "text": [
      "hello\n"
     ]
    }
   ],
   "source": [
    "print(\"hello\")"
   ]
  },
  {
   "cell_type": "code",
   "execution_count": 33,
   "id": "a6fcb38c-c336-41b0-ae4a-f8cc107e30e9",
   "metadata": {},
   "outputs": [
    {
     "name": "stdout",
     "output_type": "stream",
     "text": [
      "44\n"
     ]
    }
   ],
   "source": [
    "# Assigning variables \n",
    "test_variable_a =14\n",
    "test_variable_b =16\n",
    "test_variable_c =test_variable_a + test_variable_b\n",
    "print(test_variable_a + test_variable_c)"
   ]
  },
  {
   "cell_type": "code",
   "execution_count": 35,
   "id": "ce2a52e0-f47d-4c60-bd79-1c73a5baec20",
   "metadata": {},
   "outputs": [
    {
     "data": {
      "text/plain": [
       "int"
      ]
     },
     "execution_count": 35,
     "metadata": {},
     "output_type": "execute_result"
    }
   ],
   "source": [
    "# Checking the types of variable \n",
    "type(test_variable_c)\n",
    "type(test_variable_b)\n",
    "type(test_variable_a)"
   ]
  },
  {
   "cell_type": "code",
   "execution_count": 36,
   "id": "77526a65-4512-42aa-b19c-c6a063a10ba9",
   "metadata": {},
   "outputs": [
    {
     "data": {
      "text/plain": [
       "float"
      ]
     },
     "execution_count": 36,
     "metadata": {},
     "output_type": "execute_result"
    }
   ],
   "source": [
    "# Change the type of variable from interger to float \n",
    "test_variable_c=float(test_variable_c)\n",
    "type(test_variable_c)"
   ]
  },
  {
   "cell_type": "code",
   "execution_count": 37,
   "id": "423ea2ac-de9a-403b-8eef-ca5dd33a922b",
   "metadata": {},
   "outputs": [
    {
     "name": "stdout",
     "output_type": "stream",
     "text": [
      "3.3333333333333335\n"
     ]
    },
    {
     "data": {
      "text/plain": [
       "int"
      ]
     },
     "execution_count": 37,
     "metadata": {},
     "output_type": "execute_result"
    }
   ],
   "source": [
    "# Dividing integers to see the results ]\n",
    "a=10\n",
    "b=3 \n",
    "c=a/b\n",
    "print(c)\n",
    "type(a)"
   ]
  },
  {
   "cell_type": "code",
   "execution_count": 19,
   "id": "10210ae6-8c9a-459e-8c53-8db4f601f0b1",
   "metadata": {},
   "outputs": [
    {
     "name": "stdout",
     "output_type": "stream",
     "text": [
      "Shawn O'neil\n"
     ]
    }
   ],
   "source": [
    "# writing names in Python and the use of spaces\n",
    "first_name=\"Shawn\"\n",
    "last_name= \"O'neil\"\n",
    "full_name= first_name + \" \" + last_name    # introduce \" \" between names to get the required space\n",
    "print(full_name)"
   ]
  },
  {
   "cell_type": "code",
   "execution_count": 44,
   "id": "d6cad270",
   "metadata": {},
   "outputs": [
    {
     "name": "stdout",
     "output_type": "stream",
     "text": [
      "5.64\n",
      "10\n"
     ]
    },
    {
     "data": {
      "text/plain": [
       "int"
      ]
     },
     "execution_count": 44,
     "metadata": {},
     "output_type": "execute_result"
    }
   ],
   "source": [
    "# Check integers and float data types\n",
    "theta=5.64\n",
    "exons=10\n",
    "print(theta)\n",
    "print(exons)\n",
    "type(theta)\n",
    "type(exons)"
   ]
  },
  {
   "cell_type": "code",
   "execution_count": 45,
   "id": "a612c4ac",
   "metadata": {},
   "outputs": [
    {
     "data": {
      "text/plain": [
       "float"
      ]
     },
     "execution_count": 45,
     "metadata": {},
     "output_type": "execute_result"
    }
   ],
   "source": [
    "# Conversion from integers to float\n",
    "exons_as_float=float(exons)\n",
    "type(exons_as_float)"
   ]
  },
  {
   "cell_type": "code",
   "execution_count": 54,
   "id": "e9854137",
   "metadata": {},
   "outputs": [
    {
     "name": "stdout",
     "output_type": "stream",
     "text": [
      "1\n"
     ]
    }
   ],
   "source": [
    "# Checking reminders using the % \n",
    "answer_2=a%b\n",
    "print(answer_2)"
   ]
  },
  {
   "cell_type": "code",
   "execution_count": 55,
   "id": "b352a61e",
   "metadata": {},
   "outputs": [
    {
     "name": "stdout",
     "output_type": "stream",
     "text": [
      "1000\n"
     ]
    }
   ],
   "source": [
    "# Using exponential values\n",
    "answer_3 = a**b\n",
    "print(answer_3)"
   ]
  },
  {
   "cell_type": "code",
   "execution_count": 56,
   "id": "a0fcabb9",
   "metadata": {},
   "outputs": [
    {
     "data": {
      "text/plain": [
       "False"
      ]
     },
     "execution_count": 56,
     "metadata": {},
     "output_type": "execute_result"
    }
   ],
   "source": [
    "# using Boolean operators \n",
    "1==2"
   ]
  },
  {
   "cell_type": "code",
   "execution_count": 57,
   "id": "b5addef3",
   "metadata": {},
   "outputs": [
    {
     "data": {
      "text/plain": [
       "False"
      ]
     },
     "execution_count": 57,
     "metadata": {},
     "output_type": "execute_result"
    }
   ],
   "source": [
    "2>3"
   ]
  },
  {
   "cell_type": "code",
   "execution_count": 58,
   "id": "5af9ebb1",
   "metadata": {},
   "outputs": [
    {
     "data": {
      "text/plain": [
       "True"
      ]
     },
     "execution_count": 58,
     "metadata": {},
     "output_type": "execute_result"
    }
   ],
   "source": [
    "4>2"
   ]
  },
  {
   "cell_type": "code",
   "execution_count": 66,
   "id": "97a4b509",
   "metadata": {},
   "outputs": [
    {
     "name": "stdout",
     "output_type": "stream",
     "text": [
      "Sebastian Musundi\n"
     ]
    }
   ],
   "source": [
    "# Use of strings # Use + symbol to concatanate two strings\n",
    "First=\"Sebastian\"\n",
    "Second=\"Musundi\"\n",
    "Third=\"Dibondo\"\n",
    "\n",
    "print(First + \" \" + Second )\n",
    "\n"
   ]
  },
  {
   "cell_type": "code",
   "execution_count": 67,
   "id": "7ab13d9b",
   "metadata": {},
   "outputs": [
    {
     "data": {
      "text/plain": [
       "str"
      ]
     },
     "execution_count": 67,
     "metadata": {},
     "output_type": "execute_result"
    }
   ],
   "source": [
    "type(Third)"
   ]
  },
  {
   "cell_type": "code",
   "execution_count": 76,
   "id": "45de8da1",
   "metadata": {},
   "outputs": [
    {
     "name": "stdout",
     "output_type": "stream",
     "text": [
      "My name is Sebastian Dibondo Musundi\n"
     ]
    }
   ],
   "source": [
    "# Printing my name in python \n",
    "print(\"My name is\" \" \" +  First + \" \" + Third + \" \" + Second  )"
   ]
  },
  {
   "cell_type": "code",
   "execution_count": 89,
   "id": "bad8bbb3",
   "metadata": {},
   "outputs": [
    {
     "name": "stdout",
     "output_type": "stream",
     "text": [
      "My name is Sebastian Dibondoand my height is 5.7\n"
     ]
    }
   ],
   "source": [
    "# concanate different data types ( strings and int) \n",
    "height=5.7\n",
    "\n",
    "print(\"My name is\" \" \" +  First + \" \" + Third + \"and my height is\" \" \" + str(height))"
   ]
  },
  {
   "cell_type": "code",
   "execution_count": 90,
   "id": "9e2f680e",
   "metadata": {},
   "outputs": [
    {
     "name": "stdout",
     "output_type": "stream",
     "text": [
      "TCG\n"
     ]
    }
   ],
   "source": [
    "# Indexing variables in python \n",
    "\n",
    "seq=\"ATCGACTG\"\n",
    "\n",
    "seq_1=seq[1:4]\n",
    "print(seq_1)"
   ]
  },
  {
   "cell_type": "code",
   "execution_count": 91,
   "id": "351e5dd8",
   "metadata": {},
   "outputs": [
    {
     "data": {
      "text/plain": [
       "3"
      ]
     },
     "execution_count": 91,
     "metadata": {},
     "output_type": "execute_result"
    }
   ],
   "source": [
    "# Getting the length of a string \n",
    "len(seq_1)"
   ]
  },
  {
   "cell_type": "code",
   "execution_count": 100,
   "id": "27f98920",
   "metadata": {},
   "outputs": [
    {
     "name": "stdout",
     "output_type": "stream",
     "text": [
      "23\n",
      "C\n"
     ]
    },
    {
     "data": {
      "text/plain": [
       "'CGGATCATGCAAATTGACGAC'"
      ]
     },
     "execution_count": 100,
     "metadata": {},
     "output_type": "execute_result"
    }
   ],
   "source": [
    "# Calculate GC content in a string \n",
    "sequence=\"ATCGGATCATGCAAATTGACGAC\"\n",
    "\n",
    "# calculate the overall length of the sequence \n",
    "seq_length=len(sequence)\n",
    "print(seq_length)\n",
    "\n",
    "# get the last letter of the sequence \n",
    "last_letter = sequence[seq_length -1]\n",
    "print(last_letter)\n",
    "\n",
    "# Extract substring from position 2 till end of the string \n",
    "sequence[2:seq_length]"
   ]
  },
  {
   "cell_type": "code",
   "execution_count": 104,
   "id": "21860544",
   "metadata": {},
   "outputs": [
    {
     "name": "stdout",
     "output_type": "stream",
     "text": [
      "ACTAGGTAACTC\n",
      "AGGTAA\n"
     ]
    }
   ],
   "source": [
    "# immutability in python for computational effiency not same as R \n",
    "# For example in R we could replace the second letter.\n",
    "\n",
    "seqa=\"ACTAG\"\n",
    "seqb=\"GTAACTC\"\n",
    "\n",
    "seqc=seqa + seqb \n",
    "\n",
    "print(seqc)\n",
    "\n",
    "seqd=seqc[3:9]\n",
    "\n",
    "print(seqd)\n",
    "\n",
    "\n"
   ]
  },
  {
   "cell_type": "code",
   "execution_count": 105,
   "id": "922e0622",
   "metadata": {},
   "outputs": [
    {
     "data": {
      "text/plain": [
       "float"
      ]
     },
     "execution_count": 105,
     "metadata": {},
     "output_type": "execute_result"
    }
   ],
   "source": [
    "# Exercise 1 on elementary data types \n",
    "#1.\n",
    "x=12\n",
    "y=13.5\n",
    "\n",
    "z=x/y\n",
    "type(z)"
   ]
  },
  {
   "cell_type": "code",
   "execution_count": 106,
   "id": "f861f6e4",
   "metadata": {},
   "outputs": [
    {
     "name": "stdout",
     "output_type": "stream",
     "text": [
      "0\n"
     ]
    }
   ],
   "source": [
    "# convert z to integer\n",
    "z_int=int(z)\n",
    "print(z_int)"
   ]
  },
  {
   "cell_type": "code",
   "execution_count": 107,
   "id": "8fd0308d",
   "metadata": {},
   "outputs": [
    {
     "name": "stdout",
     "output_type": "stream",
     "text": [
      "12\n"
     ]
    }
   ],
   "source": [
    "x_string= str(x)\n",
    "print(x_string)"
   ]
  },
  {
   "cell_type": "code",
   "execution_count": 108,
   "id": "4db43184",
   "metadata": {},
   "outputs": [
    {
     "data": {
      "text/plain": [
       "str"
      ]
     },
     "execution_count": 108,
     "metadata": {},
     "output_type": "execute_result"
    }
   ],
   "source": [
    "type(x_string)"
   ]
  },
  {
   "cell_type": "code",
   "execution_count": 110,
   "id": "07fd6491",
   "metadata": {},
   "outputs": [
    {
     "name": "stdout",
     "output_type": "stream",
     "text": [
      "True\n"
     ]
    }
   ],
   "source": [
    "# convert string to boolean \n",
    "x_bool=bool(x_string)\n",
    "print(x_bool)"
   ]
  },
  {
   "cell_type": "code",
   "execution_count": 111,
   "id": "cad7ed1d",
   "metadata": {},
   "outputs": [
    {
     "name": "stdout",
     "output_type": "stream",
     "text": [
      "False\n"
     ]
    }
   ],
   "source": [
    "# convert int to boolean \n",
    "x_bo = bool(z_int)\n",
    "print(x_bo)\n",
    "\n",
    "# Conclusion we can convert a string variable to boolean but not a an integer to boolean "
   ]
  },
  {
   "cell_type": "code",
   "execution_count": 117,
   "id": "3520c161",
   "metadata": {},
   "outputs": [
    {
     "name": "stdout",
     "output_type": "stream",
     "text": [
      "My full name is Sebastian Musundi  and I weigh 65kg\n"
     ]
    }
   ],
   "source": [
    "# Question 2\n",
    "# Write my name and weight by combining strings \n",
    "full_name=\"Sebastian Musundi\"\n",
    "weight=65\n",
    "print(\"My full name is\" \" \" + full_name + \" \" + \" and I weigh \" + str(weight)+ \"kg\")"
   ]
  },
  {
   "cell_type": "code",
   "execution_count": 119,
   "id": "f886371e",
   "metadata": {},
   "outputs": [
    {
     "ename": "TypeError",
     "evalue": "can't multiply sequence by non-int of type 'str'",
     "output_type": "error",
     "traceback": [
      "\u001b[0;31m---------------------------------------------------------------------------\u001b[0m",
      "\u001b[0;31mTypeError\u001b[0m                                 Traceback (most recent call last)",
      "Cell \u001b[0;32mIn[119], line 2\u001b[0m\n\u001b[1;32m      1\u001b[0m \u001b[38;5;66;03m# what happens when i replace the + sign with * \u001b[39;00m\n\u001b[0;32m----> 2\u001b[0m \u001b[38;5;28mprint\u001b[39m(\u001b[38;5;124m\"\u001b[39m\u001b[38;5;124mMy full name is\u001b[39m\u001b[38;5;124m\"\u001b[39m \u001b[38;5;124m\"\u001b[39m\u001b[38;5;124m \u001b[39m\u001b[38;5;124m\"\u001b[39m \u001b[38;5;241m*\u001b[39m full_name \u001b[38;5;241m*\u001b[39m \u001b[38;5;124m\"\u001b[39m\u001b[38;5;124m \u001b[39m\u001b[38;5;124m\"\u001b[39m \u001b[38;5;241m*\u001b[39m \u001b[38;5;124m\"\u001b[39m\u001b[38;5;124m and I weigh \u001b[39m\u001b[38;5;124m\"\u001b[39m \u001b[38;5;241m*\u001b[39m weight \u001b[38;5;241m*\u001b[39m \u001b[38;5;124m\"\u001b[39m\u001b[38;5;124mkg\u001b[39m\u001b[38;5;124m\"\u001b[39m)\n",
      "\u001b[0;31mTypeError\u001b[0m: can't multiply sequence by non-int of type 'str'"
     ]
    }
   ],
   "source": [
    "# what happens when i replace the + sign with * \n",
    "print(\"My full name is\" \" \" * full_name * \" \" * \" and I weigh \" * weight * \"kg\")"
   ]
  },
  {
   "cell_type": "code",
   "execution_count": 121,
   "id": "09f54de4",
   "metadata": {},
   "outputs": [
    {
     "data": {
      "text/plain": [
       "'G'"
      ]
     },
     "execution_count": 121,
     "metadata": {},
     "output_type": "execute_result"
    }
   ],
   "source": [
    "# what happens when you use for floats in indexing \n",
    "sequence_2=\"GTACATGTTGC\"\n",
    "sequence_2[-2]"
   ]
  },
  {
   "cell_type": "code",
   "execution_count": 136,
   "id": "fb4643e3",
   "metadata": {},
   "outputs": [
    {
     "name": "stdout",
     "output_type": "stream",
     "text": [
      "9\n",
      "ACTA\n",
      "GATGA\n"
     ]
    }
   ],
   "source": [
    "# Question 4 \n",
    "seq_example=\"ACTAGATGA\"\n",
    "print(len(seq_example))\n",
    "\n",
    "first_half=seq_example[0:4]\n",
    "second_half=seq_example[4:9]\n",
    "\n",
    "print(first_half)\n",
    "print(second_half)"
   ]
  },
  {
   "cell_type": "code",
   "execution_count": 152,
   "id": "eb1449ec",
   "metadata": {},
   "outputs": [
    {
     "name": "stdout",
     "output_type": "stream",
     "text": [
      "53.57\n",
      "46.43\n"
     ]
    }
   ],
   "source": [
    "# Determine the GC content preseent in the sequence below\n",
    "sequence_example=\"GCTAGCTACCCACCAAAGGTACCAGTAC\"\n",
    "\n",
    "# Determine length of sequence \n",
    "seq_len=len(sequence_example)\n",
    "\n",
    "# Determine number of G's and C's\n",
    "gc_count=sequence_example.count('G') + sequence_example.count('C')\n",
    "\n",
    "\n",
    "# Calculate the GC percentage \n",
    "gc_percent=((gc_count)/seq_len) * 100\n",
    "\n",
    "# Calculate AT percentage\n",
    "at_percent=100 - gc_percent\n",
    "\n",
    "# Round the GC and AT percentage \n",
    "print(round(gc_percent,2))\n",
    "print(round(at_percent,2))"
   ]
  },
  {
   "cell_type": "code",
   "execution_count": 2,
   "id": "60c71d49",
   "metadata": {},
   "outputs": [
    {
     "name": "stdout",
     "output_type": "stream",
     "text": [
      "CATGACCATGGAAACCACCCATCGATCG\n"
     ]
    }
   ],
   "source": [
    "# Determine the GC content preseent in the sequence below\n",
    "sequence_example=\"GCTAGCTACCCACCAAAGGTACCAGTAC\"\n",
    "\n",
    "# Reverse a given DNA sequence \n",
    "sequence_rev=sequence_example[::-1]\n",
    "\n",
    "# print the reversed sequence\n",
    "print(sequence_rev)\n"
   ]
  },
  {
   "cell_type": "code",
   "execution_count": 3,
   "id": "d9bdb33d",
   "metadata": {},
   "outputs": [
    {
     "name": "stdout",
     "output_type": "stream",
     "text": [
      "GCUAGCUACCCACCAAAGGUACCAGUAC\n"
     ]
    }
   ],
   "source": [
    "# Replace T with U in the provided sequence below\n",
    "sequence_example=\"GCTAGCTACCCACCAAAGGTACCAGTAC\"\n",
    "\n",
    "# Replace T with U \n",
    "seq_replace=sequence_example.replace(\"T\", \"U\")\n",
    "\n",
    "# print the replaced sequence\n",
    "print(seq_replace)"
   ]
  },
  {
   "cell_type": "code",
   "execution_count": 5,
   "id": "b512a204",
   "metadata": {},
   "outputs": [
    {
     "name": "stdout",
     "output_type": "stream",
     "text": [
      "GTACTGGTACCTTTGGTGGGTAGCTAGC\n"
     ]
    }
   ],
   "source": [
    "#  Create a reverse complement sequence \n",
    "\n",
    "# Replace T with U in the provided sequence below\n",
    "sequence_example=\"GCTAGCTACCCACCAAAGGTACCAGTAC\"\n",
    "\n",
    "# Reverse the sequence \n",
    "reverse_sequence=sequence_example[::-1]\n",
    "\n",
    "# replace G's with C's and T's with A's and vice versa \n",
    "reverse_complement=reverse_sequence.replace(\"A\", \"t\").replace(\"T\", \"a\").replace(\"G\", \"c\").replace(\"C\", \"g\")\n",
    "    \n",
    "# Change the letters to upper case\n",
    "reverse_complement=reverse_complement.upper()\n",
    "\n",
    "# print reverse complement\n",
    "print(reverse_complement)\n",
    "    "
   ]
  },
  {
   "cell_type": "code",
   "execution_count": 6,
   "id": "264485b0",
   "metadata": {},
   "outputs": [
    {
     "name": "stdout",
     "output_type": "stream",
     "text": [
      "38\n"
     ]
    }
   ],
   "source": [
    "# count the number of NANP repeats present in a sequence\n",
    "seq_NANP=\"NANPNVDPNANPNVDPNANPNVDPNANPNANPNANPNANPNANPNANPNANPNANPNANPNANPNANPNANPNANPNANPNANPNANPNANPNVDPNANPNANPNANPNANPNANPNANPNANPNANPNANPNANPNANPNANPNANPNANPNANPNANPNANPNANP\"\n",
    "\n",
    "# Check the sequence length\n",
    "NANP_len=len(seq_NANP)\n",
    "\n",
    "# Count the number of NANP repeats \n",
    "NANP_count=seq_NANP.count(\"NANP\")\n",
    "\n",
    "# print number of NANP repeats\n",
    "print(NANP_count)"
   ]
  },
  {
   "cell_type": "code",
   "execution_count": 8,
   "id": "4888d2f4",
   "metadata": {},
   "outputs": [
    {
     "name": "stdout",
     "output_type": "stream",
     "text": [
      "22.62\n"
     ]
    }
   ],
   "source": [
    "# Calculate the percentage of amino acid Alanine in a protein sequence \n",
    "seq_NANP=\"NANPNVDPNANPNVDPNANPNVDPNANPNANPNANPNANPNANPNANPNANPNANPNANPNANPNANPNANPNANPNANPNANPNANPNANPNVDPNANPNANPNANPNANPNANPNANPNANPNANPNANPNANPNANPNANPNANPNANPNANPNANPNANPNANP\"\n",
    "\n",
    "# Calculate total length of sequence\n",
    "NANP_len=len(seq_NANP)\n",
    "\n",
    "# Count the number of Alanines present in the sample \n",
    "Alanine_count=seq_NANP.count(\"A\")\n",
    "\n",
    "#  Percentage of Alanine \n",
    "percent_alanine=(Alanine_count/NANP_len) * 100\n",
    "\n",
    "# Print the percentage of alanine \n",
    "print(round(percent_alanine,2))"
   ]
  },
  {
   "cell_type": "code",
   "execution_count": null,
   "id": "e359b036",
   "metadata": {},
   "outputs": [],
   "source": []
  }
 ],
 "metadata": {
  "kernelspec": {
   "display_name": "Python 3 (ipykernel)",
   "language": "python",
   "name": "python3"
  },
  "language_info": {
   "codemirror_mode": {
    "name": "ipython",
    "version": 3
   },
   "file_extension": ".py",
   "mimetype": "text/x-python",
   "name": "python",
   "nbconvert_exporter": "python",
   "pygments_lexer": "ipython3",
   "version": "3.11.5"
  }
 },
 "nbformat": 4,
 "nbformat_minor": 5
}
